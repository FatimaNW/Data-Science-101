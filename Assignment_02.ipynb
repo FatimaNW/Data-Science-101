{
 "cells": [
  {
   "cell_type": "markdown",
   "metadata": {
    "id": "bb0O0xtk1v9t"
   },
   "source": [
    "## Task 01:\n",
    "\n",
    "Print Your Name with your Father name and Date of birth using suitable escape sequence charactor\n",
    "\n"
   ]
  },
  {
   "cell_type": "code",
   "execution_count": 33,
   "metadata": {
    "id": "U7LLGIkO2Ixa"
   },
   "outputs": [
    {
     "name": "stdout",
     "output_type": "stream",
     "text": [
      "My name is Fatima \n",
      "My father's name is Nadeem \n",
      "My date of birth is 13 March\n"
     ]
    }
   ],
   "source": [
    "name = \"Fatima\"\n",
    "father_name = \"Nadeem\"\n",
    "dob = \"13 March\"\n",
    "print(\"My name is\", name, \"\\nMy father's name is\", father_name, \"\\nMy date of birth is\", dob)"
   ]
  },
  {
   "cell_type": "markdown",
   "metadata": {
    "id": "TU-xwiLV2NgB"
   },
   "source": [
    "# Task 02:\n",
    "\n",
    "Write your small bio using variables and print it using print function"
   ]
  },
  {
   "cell_type": "code",
   "execution_count": 35,
   "metadata": {
    "id": "Dw8w3rwl2wDB"
   },
   "outputs": [
    {
     "name": "stdout",
     "output_type": "stream",
     "text": [
      "\n",
      "Hello, my name is Fatima Nadeem and I am 21 years old. I am a Computer Science student at NED University. \n",
      "My interests span across various domains, including data science, web development, graphic design, artificial intelligence and machine learning. \n",
      "Proficient in Python, C++, HTML/CSS, Illustrator and Canva.\n"
     ]
    }
   ],
   "source": [
    "age = 21\n",
    "field = \"Computer Science\"\n",
    "university = \"NED\"\n",
    "domains = \"data science, web development, graphic design, artificial intelligence and machine learning\"\n",
    "proficiency = \"Python, C++, HTML/CSS, Illustrator and Canva\"\n",
    "bio = f\"\"\"\n",
    "Hello, my name is {name} {father_name} and I am {age} years old. I am a {field} student at {university} University. \n",
    "My interests span across various domains, including {domains}. \n",
    "Proficient in {proficiency}.\"\"\"\n",
    "print(bio)\n"
   ]
  },
  {
   "cell_type": "markdown",
   "metadata": {
    "id": "F2lcZuDe2ztv"
   },
   "source": [
    "# Task 03:\n",
    "\n",
    "Write a program in which use all the operators we can use in Python"
   ]
  },
  {
   "cell_type": "code",
   "execution_count": 37,
   "metadata": {
    "id": "lEJhzsXh3e7K"
   },
   "outputs": [
    {
     "name": "stdout",
     "output_type": "stream",
     "text": [
      "a = 10 \n",
      "b = 3\n",
      "\n",
      "ARITHMATIC OPERATORS\n",
      "Addition: 13\n",
      "Subtraction: 7\n",
      "Multiplication: 30\n",
      "Division: 3.3333333333333335\n",
      "Floor Division: 3\n",
      "Modulus: 1\n",
      "Exponentiation: 1000\n",
      "\n",
      "COMPARISION OPERATORS\n",
      "Equal to: False\n",
      "Not equal to: True\n",
      "Greater than: True\n",
      "Less than: False\n",
      "Greater than or equal to: True\n",
      "Less than or equal to: False \n",
      "\n",
      "\n",
      "x = True \n",
      "y = False\n",
      "\n",
      "LOGICAL OPERATORS\n",
      "AND: False\n",
      "OR: True\n",
      "NOT x: False\n"
     ]
    }
   ],
   "source": [
    "a = 10\n",
    "b = 3\n",
    "print(\"a =\", a, \"\\nb =\", b)\n",
    "\n",
    "print(\"\\nARITHMATIC OPERATORS\")\n",
    "print(\"Addition:\", a + b)       \n",
    "print(\"Subtraction:\", a - b)    \n",
    "print(\"Multiplication:\", a * b) \n",
    "print(\"Division:\", a / b)       \n",
    "print(\"Floor Division:\", a // b) \n",
    "print(\"Modulus:\", a % b)        \n",
    "print(\"Exponentiation:\", a ** b) \n",
    "\n",
    "print(\"\\nCOMPARISION OPERATORS\")\n",
    "print(\"Equal to:\", x == y)          \n",
    "print(\"Not equal to:\", x != y)      \n",
    "print(\"Greater than:\", x > y)       \n",
    "print(\"Less than:\", x < y)          \n",
    "print(\"Greater than or equal to:\", x >= y) \n",
    "print(\"Less than or equal to:\", x <= y, \"\\n\\n\")    \n",
    "\n",
    "\n",
    "x = True\n",
    "y = False\n",
    "print(\"x =\", x, \"\\ny =\", y)\n",
    "\n",
    "print(\"\\nLOGICAL OPERATORS\")\n",
    "print(\"AND:\", x and y)     \n",
    "print(\"OR:\", x or y)      \n",
    "print(\"NOT x:\", not x)      "
   ]
  },
  {
   "cell_type": "markdown",
   "metadata": {
    "id": "i4N14TJU3l7n"
   },
   "source": [
    "# Task 04:\n",
    "\n",
    "\n",
    "1. Mention Marks of English , Islamiat and Maths out of 100 in 3 different variables\n",
    "\n",
    "2. Mention Variable of Total Marks and assign 300 to it\n",
    "\n",
    "3. Calculate Percentage"
   ]
  },
  {
   "cell_type": "code",
   "execution_count": 38,
   "metadata": {
    "id": "nxojzvRg5PP4"
   },
   "outputs": [
    {
     "name": "stdout",
     "output_type": "stream",
     "text": [
      "The percentage is 91.66666666666667\n"
     ]
    }
   ],
   "source": [
    "English = 95\n",
    "Islamiat = 80\n",
    "Maths = 100\n",
    "Total_Marks = 300\n",
    "Marks_Obtained = English + Islamiat + Maths\n",
    "percentage = Marks_Obtained*100/Total_Marks\n",
    "print(\"The percentage is\", percentage)"
   ]
  }
 ],
 "metadata": {
  "colab": {
   "provenance": []
  },
  "kernelspec": {
   "display_name": "Python 3 (ipykernel)",
   "language": "python",
   "name": "python3"
  },
  "language_info": {
   "codemirror_mode": {
    "name": "ipython",
    "version": 3
   },
   "file_extension": ".py",
   "mimetype": "text/x-python",
   "name": "python",
   "nbconvert_exporter": "python",
   "pygments_lexer": "ipython3",
   "version": "3.11.7"
  }
 },
 "nbformat": 4,
 "nbformat_minor": 4
}
