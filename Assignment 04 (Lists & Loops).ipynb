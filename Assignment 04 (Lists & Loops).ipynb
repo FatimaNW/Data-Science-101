{
 "cells": [
  {
   "cell_type": "code",
   "execution_count": 27,
   "id": "7509870a-b20b-4ca0-8634-79d5e2220364",
   "metadata": {},
   "outputs": [],
   "source": [
    "# LISTS"
   ]
  },
  {
   "cell_type": "code",
   "execution_count": 52,
   "id": "5046a04d-3d57-425b-a00b-1f6f7df3631b",
   "metadata": {},
   "outputs": [
    {
     "name": "stdin",
     "output_type": "stream",
     "text": [
      "Enter elements of the list:  1 2 3 4 5\n"
     ]
    },
    {
     "name": "stdout",
     "output_type": "stream",
     "text": [
      "Alternate elements of the list:\n",
      "1\n",
      "3\n",
      "5\n"
     ]
    }
   ],
   "source": [
    "# 1. Write a program that accepts a list from user and print the alternate element of list.\n",
    "\n",
    "def print_alternate_elements(lst):\n",
    "    for i in range(0, len(lst), 2):\n",
    "        print(lst[i])\n",
    "input_list = input(\"Enter elements of the list: \").split()\n",
    "print(\"Alternate elements of the list:\")\n",
    "print_alternate_elements(input_list)"
   ]
  },
  {
   "cell_type": "code",
   "execution_count": 53,
   "id": "e3a49bd6-8c72-4631-9c71-bd3eef370629",
   "metadata": {},
   "outputs": [
    {
     "name": "stdin",
     "output_type": "stream",
     "text": [
      "Enter elements of the list:  1 2 3 4 5\n"
     ]
    },
    {
     "name": "stdout",
     "output_type": "stream",
     "text": [
      "Reversed list: ['5', '4', '3', '2', '1']\n"
     ]
    }
   ],
   "source": [
    "# 2. Write a program that accepts a list from user. Your program should reverse the content of list and display it. Do not use reverse() method.\n",
    "\n",
    "def reverse_list(lst):\n",
    "    reversed_lst = []\n",
    "    for i in range(len(lst) - 1, -1, -1):\n",
    "        reversed_lst.append(lst[i])\n",
    "    return reversed_lst\n",
    "\n",
    "input_list = input(\"Enter elements of the list: \").split()\n",
    "reversed_list = reverse_list(input_list)\n",
    "print(\"Reversed list:\", reversed_list)"
   ]
  },
  {
   "cell_type": "code",
   "execution_count": 58,
   "id": "dd2c104c-2f01-4443-96ad-5b76fc340588",
   "metadata": {},
   "outputs": [
    {
     "name": "stdin",
     "output_type": "stream",
     "text": [
      "Enter the number of values in the list:  3\n",
      "Enter value 1:  6\n",
      "Enter value 2:  3\n",
      "Enter value 3:  5\n"
     ]
    },
    {
     "name": "stdout",
     "output_type": "stream",
     "text": [
      "The largest number in the list is: 6\n"
     ]
    }
   ],
   "source": [
    "\"\"\" 3. Find and display the largest number of a list without using built-in function max(). Your program should ask the user to input \n",
    "values in list from keyboard.\"\"\"\n",
    "\n",
    "def find_largest(lst):\n",
    "    largest = lst[0]\n",
    "    for num in lst[1:]:\n",
    "        if num > largest:\n",
    "            largest = num\n",
    "    return largest\n",
    "num_values = int(input(\"Enter the number of values in the list: \"))\n",
    "input_list = []\n",
    "for i in range(num_values):\n",
    "    value = int(input(f\"Enter value {i+1}: \"))\n",
    "    input_list.append(value)\n",
    "    \n",
    "print(\"The largest number in the list is:\", find_largest(input_list))"
   ]
  },
  {
   "cell_type": "code",
   "execution_count": 56,
   "id": "4cca5f88-6d46-4081-b832-accad59fc45e",
   "metadata": {},
   "outputs": [
    {
     "name": "stdin",
     "output_type": "stream",
     "text": [
      "Enter elements of the list:  1 2 3 4 5\n"
     ]
    },
    {
     "name": "stdout",
     "output_type": "stream",
     "text": [
      "Rotated list: ['5', '1', '2', '3', '4']\n"
     ]
    }
   ],
   "source": [
    "\"\"\" 4. Write a program that rotates the element of a list so that the element at the first index moves to the second index, the element \n",
    "in the second index moves to the third index, etc., and the element in the last index moves to the first index.\"\"\"\n",
    "\n",
    "def rotate_list(lst):\n",
    "    rotated = [lst[-1]] + lst[:-1]\n",
    "    return rotated\n",
    "\n",
    "input_list = input(\"Enter elements of the list: \").split()\n",
    "print(\"Rotated list:\", rotate_list(input_list))"
   ]
  },
  {
   "cell_type": "code",
   "execution_count": 59,
   "id": "33930437-e7c1-49ac-bb2a-7701b2c8eae1",
   "metadata": {},
   "outputs": [
    {
     "name": "stdin",
     "output_type": "stream",
     "text": [
      "Enter a string:  Harry James Potter\n",
      "Enter the word to delete from the string:  James\n"
     ]
    },
    {
     "name": "stdout",
     "output_type": "stream",
     "text": [
      "String after deleting the word: Harry Potter\n"
     ]
    }
   ],
   "source": [
    "# 5. Write a program that input a string and ask user to delete a given word from a string.\n",
    "\n",
    "def delete_word(sentence, word):\n",
    "    words = sentence.split()\n",
    "    result = ' '.join([w for w in words if w != word])\n",
    "    return result\n",
    "    \n",
    "input_string = input(\"Enter a string: \")\n",
    "word_to_delete = input(\"Enter the word to delete from the string: \")\n",
    "new_string = delete_word(input_string, word_to_delete)\n",
    "print(\"String after deleting the word:\", new_string)"
   ]
  },
  {
   "cell_type": "code",
   "execution_count": 60,
   "id": "f2f2b686-a7f9-4338-8213-fbcf781c17ea",
   "metadata": {},
   "outputs": [
    {
     "name": "stdin",
     "output_type": "stream",
     "text": [
      "Enter a date in the format mm/dd/yyyy:  03/13/2003\n"
     ]
    },
    {
     "name": "stdout",
     "output_type": "stream",
     "text": [
      "Formatted date: March 13, 2003\n"
     ]
    }
   ],
   "source": [
    "# 6. Write a program that reads a string from the user containing a date in the form mm/dd/yyyy. It should print the date in the form March 12, 2021.\n",
    "\n",
    "def format_date(date_string):\n",
    "    parts = date_string.split('/')\n",
    "    month = int(parts[0])\n",
    "    day = int(parts[1])\n",
    "    year = int(parts[2])\n",
    "    month_names = {\n",
    "        1: 'January', 2: 'February', 3: 'March', 4: 'April',\n",
    "        5: 'May', 6: 'June', 7: 'July', 8: 'August',\n",
    "        9: 'September', 10: 'October', 11: 'November', 12: 'December'\n",
    "    }\n",
    "    month_name = month_names[month]\n",
    "    return f\"{month_name} {day}, {year}\"\n",
    "\n",
    "date_input = input(\"Enter a date in the format mm/dd/yyyy: \")\n",
    "formatted_date = format_date(date_input)\n",
    "print(\"Formatted date:\", formatted_date)"
   ]
  },
  {
   "cell_type": "code",
   "execution_count": 61,
   "id": "9ad1d011-bbd2-4200-8410-fd32eb47790a",
   "metadata": {},
   "outputs": [
    {
     "name": "stdin",
     "output_type": "stream",
     "text": [
      "Enter a string:  wow, such empty\n"
     ]
    },
    {
     "name": "stdout",
     "output_type": "stream",
     "text": [
      "New string: Wow, Such Empty\n"
     ]
    }
   ],
   "source": [
    "\"\"\" 7. Write a program with a function that accepts a string from keyboard and create a new string after converting character of each word capitalized. \n",
    "For instance, if the sentence is \"stop and smell the roses.\" the output should be \"Stop And Smell The Roses' \"\"\"\n",
    "\n",
    "def capitalize_words(sentence):\n",
    "    words = sentence.split()\n",
    "    capitalized_words = [word.capitalize() for word in words]\n",
    "    return ' '.join(capitalized_words)\n",
    "\n",
    "input_string = input(\"Enter a string: \")\n",
    "new_string = capitalize_words(input_string)\n",
    "print(\"New string:\", new_string)\n"
   ]
  },
  {
   "cell_type": "code",
   "execution_count": 62,
   "id": "b5447add-12cc-49e6-9f57-9590f9cb90c8",
   "metadata": {},
   "outputs": [
    {
     "name": "stdout",
     "output_type": "stream",
     "text": [
      "Sum of elements in row 1: 13\n",
      "Sum of elements in row 2: 27\n",
      "Sum of elements in row 3: 22\n"
     ]
    }
   ],
   "source": [
    "# 8. Find the sum of each row of matrix of size m x n. For example for the following matrix output will be like this: 2 11 7 12 5 2 9 15\n",
    "\n",
    "def row_sums(matrix):\n",
    "    row_sums_list = []\n",
    "    for row in matrix:\n",
    "        row_sum = sum(row)\n",
    "        row_sums_list.append(row_sum)\n",
    "    return row_sums_list\n",
    "\n",
    "matrix = [\n",
    "    [2, 10, 1],\n",
    "    [20, 5, 2],\n",
    "    [7, 15]\n",
    "]\n",
    "sums = row_sums(matrix)\n",
    "for i, row_sum in enumerate(sums, start=1):\n",
    "    print(f\"Sum of elements in row {i}: {row_sum}\")"
   ]
  },
  {
   "cell_type": "code",
   "execution_count": 63,
   "id": "0245fed0-c6ef-48e9-9f87-cd424af8cbc5",
   "metadata": {},
   "outputs": [
    {
     "name": "stdout",
     "output_type": "stream",
     "text": [
      "Resultant Matrix:\n",
      "[10, 10, 10]\n",
      "[10, 10, 10]\n",
      "[10, 10, 10]\n"
     ]
    }
   ],
   "source": [
    "# 9. Write a program to add two matrices of size n x m.\n",
    "\n",
    "def add_matrices(matrix1, matrix2):\n",
    "    result = []\n",
    "    for i in range(len(matrix1)):\n",
    "        row = []\n",
    "        for j in range(len(matrix1[0])):\n",
    "            row.append(matrix1[i][j] + matrix2[i][j])\n",
    "        result.append(row)\n",
    "    return result\n",
    "\n",
    "matrix1 = [ [1, 2, 3], [4, 5, 6], [7, 8, 9] ]\n",
    "matrix2 = [ [9, 8, 7], [6, 5, 4], [3, 2, 1] ]\n",
    "\n",
    "result_matrix = add_matrices(matrix1, matrix2)\n",
    "print(\"Resultant Matrix:\")\n",
    "for row in result_matrix:\n",
    "    print(row)"
   ]
  },
  {
   "cell_type": "code",
   "execution_count": 64,
   "id": "e01a583e-4eb0-4250-8bb2-daf1551bc566",
   "metadata": {},
   "outputs": [
    {
     "name": "stdout",
     "output_type": "stream",
     "text": [
      "Resultant Matrix:\n",
      "[30, 24, 18]\n",
      "[84, 69, 54]\n",
      "[138, 114, 90]\n"
     ]
    }
   ],
   "source": [
    "# 10. Write a program to multiply two matrices\n",
    "\n",
    "def multiply_matrices(matrix1, matrix2):\n",
    "    result = [[0 for _ in range(len(matrix2[0]))] for _ in range(len(matrix1))]\n",
    "    for i in range(len(matrix1)):\n",
    "        for j in range(len(matrix2[0])):\n",
    "            for k in range(len(matrix2)):\n",
    "                result[i][j] += matrix1[i][k] * matrix2[k][j]\n",
    "    return result\n",
    "\n",
    "matrix1 = [[1, 2, 3], [4, 5, 6], [7, 8, 9]]\n",
    "matrix2 = [[9, 8, 7], [6, 5, 4], [3, 2, 1]]\n",
    "\n",
    "result_matrix = multiply_matrices(matrix1, matrix2)\n",
    "\n",
    "print(\"Resultant Matrix:\")\n",
    "for row in result_matrix:\n",
    "    print(row)"
   ]
  },
  {
   "cell_type": "code",
   "execution_count": 26,
   "id": "032719b6-bcf1-4460-9417-d228e95df45d",
   "metadata": {},
   "outputs": [],
   "source": [
    "# LOOPS"
   ]
  },
  {
   "cell_type": "code",
   "execution_count": 65,
   "id": "55668148-c036-46f6-ad4f-04f6c013bb35",
   "metadata": {},
   "outputs": [
    {
     "name": "stdout",
     "output_type": "stream",
     "text": [
      "1\n",
      "2\n",
      "3\n",
      "4\n",
      "5\n",
      "6\n",
      "7\n",
      "8\n",
      "9\n",
      "10\n"
     ]
    }
   ],
   "source": [
    "# 1. Write a Python program to print the numbers from 1 to 10 using a for loop.\n",
    "\n",
    "for i in range(1, 11):\n",
    "    print(i)"
   ]
  },
  {
   "cell_type": "code",
   "execution_count": 66,
   "id": "4b4d2332-927a-4c57-9e65-f2546d8db984",
   "metadata": {},
   "outputs": [
    {
     "name": "stdout",
     "output_type": "stream",
     "text": [
      "20\n",
      "19\n",
      "18\n",
      "17\n",
      "16\n",
      "15\n",
      "14\n",
      "13\n",
      "12\n",
      "11\n",
      "10\n",
      "9\n",
      "8\n",
      "7\n",
      "6\n",
      "5\n",
      "4\n",
      "3\n",
      "2\n",
      "1\n"
     ]
    }
   ],
   "source": [
    "# 2. Write a Python program to print the numbers from 20 to 1 using a while loop.\n",
    "\n",
    "num = 20\n",
    "while num >= 1:\n",
    "    print(num)\n",
    "    num -= 1"
   ]
  },
  {
   "cell_type": "code",
   "execution_count": 67,
   "id": "7dbaed7e-05ed-48fe-9b42-0bb8892fe040",
   "metadata": {},
   "outputs": [
    {
     "name": "stdout",
     "output_type": "stream",
     "text": [
      "2\n",
      "4\n",
      "6\n",
      "8\n",
      "10\n"
     ]
    }
   ],
   "source": [
    "# 3. Write a program to print even numbers from 1 to 10.\n",
    "\n",
    "for i in range(1, 11):\n",
    "    if i % 2 == 0:\n",
    "        print(i)"
   ]
  },
  {
   "cell_type": "code",
   "execution_count": 68,
   "id": "730c8677-7c04-4694-a9ab-cd2adf92bf66",
   "metadata": {},
   "outputs": [
    {
     "name": "stdin",
     "output_type": "stream",
     "text": [
      "Enter a number:  8\n"
     ]
    },
    {
     "name": "stdout",
     "output_type": "stream",
     "text": [
      "1\n",
      "2\n",
      "3\n",
      "4\n",
      "5\n",
      "6\n",
      "7\n",
      "8\n"
     ]
    }
   ],
   "source": [
    "# 4. Write a program that prompts the user to enter a number n and prints all the numbers from 1 to n.\n",
    "\n",
    "n = int(input(\"Enter a number: \"))\n",
    "for i in range(1, n + 1):\n",
    "    print(i)"
   ]
  },
  {
   "cell_type": "code",
   "execution_count": 69,
   "id": "13bfc285-2f97-4746-9c4c-b34034c28830",
   "metadata": {},
   "outputs": [
    {
     "name": "stdin",
     "output_type": "stream",
     "text": [
      "Enter a number:  13\n"
     ]
    },
    {
     "name": "stdout",
     "output_type": "stream",
     "text": [
      "1\n",
      "3\n",
      "5\n",
      "7\n",
      "9\n",
      "11\n",
      "13\n"
     ]
    }
   ],
   "source": [
    "# 5. Write a program that prompts the user to enter a number n, and then prints all the odd numbers between 1 and n.\n",
    "\n",
    "n = int(input(\"Enter a number: \"))\n",
    "for i in range(1, n + 1):\n",
    "    if i % 2 != 0:\n",
    "        print(i)"
   ]
  },
  {
   "cell_type": "code",
   "execution_count": 70,
   "id": "38299496-fb68-4361-9302-cbfcfb79cbf5",
   "metadata": {},
   "outputs": [
    {
     "name": "stdout",
     "output_type": "stream",
     "text": [
      "Happy Birthday!\n",
      "Happy Birthday!\n",
      "Happy Birthday!\n",
      "Happy Birthday!\n",
      "Happy Birthday!\n"
     ]
    }
   ],
   "source": [
    "# 6. Write a program that prints 'Happy Birthday!' five times on screen.\n",
    "\n",
    "for i in range(5):\n",
    "    print(\"Happy Birthday!\")"
   ]
  },
  {
   "cell_type": "code",
   "execution_count": 71,
   "id": "b57bc080-8e6d-4b66-b02f-e30124604c0f",
   "metadata": {},
   "outputs": [
    {
     "name": "stdin",
     "output_type": "stream",
     "text": [
      "Enter a number:  10\n"
     ]
    },
    {
     "name": "stdout",
     "output_type": "stream",
     "text": [
      "The first 10 terms of the series are:\n",
      "1 4 9 16 25 36 49 64 81 100 "
     ]
    }
   ],
   "source": [
    "\"\"\" 7. Write a program that takes a number n as input from the user and generates the first n terms of the series formed by squaring the \n",
    "natural numbers. Sample output Enter a number: 6 The first 6 terms of the series are: 1 4 9 16 25 36 \"\"\"\n",
    "\n",
    "n = int(input(\"Enter a number: \"))\n",
    "print(\"The first\", n, \"terms of the series are:\")\n",
    "for i in range(1, n + 1):\n",
    "    print(i * i, end=\" \")"
   ]
  },
  {
   "cell_type": "code",
   "execution_count": 72,
   "id": "49dba709-318c-44dd-bb93-85a91999d120",
   "metadata": {},
   "outputs": [
    {
     "name": "stdin",
     "output_type": "stream",
     "text": [
      "Enter a number:  6\n"
     ]
    },
    {
     "name": "stdout",
     "output_type": "stream",
     "text": [
      "Multiplication table for 6 :\n",
      "6 x 1 = 6\n",
      "6 x 2 = 12\n",
      "6 x 3 = 18\n",
      "6 x 4 = 24\n",
      "6 x 5 = 30\n",
      "6 x 6 = 36\n",
      "6 x 7 = 42\n",
      "6 x 8 = 48\n",
      "6 x 9 = 54\n",
      "6 x 10 = 60\n"
     ]
    }
   ],
   "source": [
    "# 8. Write a program that prompts the user to input a number and prints its multiplication table.\n",
    "\n",
    "num = int(input(\"Enter a number: \"))\n",
    "print(\"Multiplication table for\", num, \":\")\n",
    "for i in range(1, 11):\n",
    "    print(num, \"x\", i, \"=\", num * i)"
   ]
  },
  {
   "cell_type": "code",
   "execution_count": 74,
   "id": "139b0400-976c-456d-bb26-dd147ef72491",
   "metadata": {},
   "outputs": [
    {
     "name": "stdout",
     "output_type": "stream",
     "text": [
      "Arithmetic progression:\n",
      "3 7 11 15 19 23 27 31 "
     ]
    }
   ],
   "source": [
    "\"\"\" 9. Write a Python program to print the first 8 terms of an arithmetic progression starting with 3 and having a common difference of 4. \n",
    "The program should output the following sequence: 3 7 1 1 1 5 19 23 27 31 \"\"\"\n",
    "\n",
    "start = 3\n",
    "difference = 4\n",
    "terms = 8\n",
    "current_term = start\n",
    "print(\"Arithmetic progression:\")\n",
    "for i in range(terms):\n",
    "    print(current_term, end=\" \")\n",
    "    current_term += difference"
   ]
  },
  {
   "cell_type": "code",
   "execution_count": 75,
   "id": "74249d62-52d7-4320-ad77-48262bb0b900",
   "metadata": {},
   "outputs": [
    {
     "name": "stdout",
     "output_type": "stream",
     "text": [
      "Geometric sequence:\n",
      "2 6 18 54 162 486 "
     ]
    }
   ],
   "source": [
    "\"\"\" 10. Write a Python program to print the first 6 terms of a geometric sequence starting with 2 and having a common ratio of 3. \n",
    "The program should output the following sequence: 2 6 18 54 162 486 \"\"\"\n",
    "\n",
    "start = 2\n",
    "ratio = 3\n",
    "terms = 6\n",
    "current_term = start\n",
    "print(\"Geometric sequence:\")\n",
    "for i in range(terms):\n",
    "    print(current_term, end=\" \")\n",
    "    current_term *= ratio"
   ]
  },
  {
   "cell_type": "code",
   "execution_count": 76,
   "id": "a1709366-5544-4f20-844e-322957d3fc13",
   "metadata": {},
   "outputs": [
    {
     "name": "stdin",
     "output_type": "stream",
     "text": [
      "Enter a positive integer value:  10\n"
     ]
    },
    {
     "name": "stdout",
     "output_type": "stream",
     "text": [
      "The sum of all integers from 1 to 10 is: 55\n"
     ]
    }
   ],
   "source": [
    "\"\"\" 11. Write a program that asks the user for a positive integer value. The program should calculate the sum of all the integers from 1 up to \n",
    "the number entered. For example, if the user enters 20, the loop will find the sum of 1, 2, 3, 4, ... 20. \"\"\"\n",
    "\n",
    "num = int(input(\"Enter a positive integer value: \"))\n",
    "total = 0\n",
    "for i in range(1, num + 1):\n",
    "    total += i \n",
    "print(\"The sum of all integers from 1 to\", num, \"is:\", total)"
   ]
  },
  {
   "cell_type": "code",
   "execution_count": 77,
   "id": "79d68279-8b54-4f95-be27-4b77fa7ab4f8",
   "metadata": {},
   "outputs": [
    {
     "name": "stdin",
     "output_type": "stream",
     "text": [
      "Enter a positive integer:  5\n"
     ]
    },
    {
     "name": "stdout",
     "output_type": "stream",
     "text": [
      "The sum of reciprocals from 1 to 5 is: 2.28\n"
     ]
    }
   ],
   "source": [
    "\"\"\" 12. Write a program that takes a positive integer N as input and calculates the sum of the reciprocals of all numbers from 1 up to N. The \n",
    "program should display the final sum. Output of the program should be like: Enter a positive integer: 5 The sum of reciprocals from 1 to 5 is: 2.28 \"\"\"\n",
    "\n",
    "N = int(input(\"Enter a positive integer: \"))\n",
    "total = 0\n",
    "for i in range(1, N + 1):\n",
    "    total += 1 / i\n",
    "print(\"The sum of reciprocals from 1 to\", N, \"is:\", round(total, 2))"
   ]
  },
  {
   "cell_type": "code",
   "execution_count": 79,
   "id": "dc0ea330-49ab-44f7-a039-1b9ed989a306",
   "metadata": {},
   "outputs": [
    {
     "name": "stdin",
     "output_type": "stream",
     "text": [
      "Enter a number:  10\n",
      "Enter a number:  15\n",
      "Enter a number:  35\n",
      "Enter a number:  40\n",
      "Enter a number:  50\n"
     ]
    },
    {
     "name": "stdout",
     "output_type": "stream",
     "text": [
      "The final running total is: 150\n"
     ]
    }
   ],
   "source": [
    "\"\"\" 13. Write a program that prompts the user to enter a number and repeats this process 5 times. The program should accumulate the numbers \n",
    "entered and then display the final running total. Sample Output: Enter a number: 10 Enter a number: 15 Enter a number: 35 Enter a number: 40 \n",
    "Enter a number: 50 The final running total is: 150 \"\"\"\n",
    "\n",
    "total = 0\n",
    "for i in range(5):\n",
    "    num = int(input(\"Enter a number: \"))\n",
    "    total += num\n",
    "print(\"The final running total is:\", total)"
   ]
  },
  {
   "cell_type": "code",
   "execution_count": 81,
   "id": "7a44da83-37eb-4e13-9771-80e17a52cdfa",
   "metadata": {},
   "outputs": [
    {
     "name": "stdin",
     "output_type": "stream",
     "text": [
      "Enter a positive integer:  5\n"
     ]
    },
    {
     "name": "stdout",
     "output_type": "stream",
     "text": [
      "The factorial of 5 is 120\n"
     ]
    }
   ],
   "source": [
    "\"\"\" 14. Write a program that prompts the user to enter a positive integer and calculates its factorial. The factorial of a positive integer 'n' is \n",
    "denoted as I n!' and is calculated by multiplying all the integers from 1 to I n' together. For example, the factorial of 5 (denoted as 5!) is \n",
    "calculated as 1 x 2 x 3 x 4x 5. The program should display the factorial value if the input is a positive number, or display a message stating that \n",
    "the factorial does not exist for negative numbers. Additionally, for an input of zero, the program should output that the factorial of 0 is 1. \"\"\"\n",
    "\n",
    "num = int(input(\"Enter a positive integer: \"))\n",
    "if num < 0:\n",
    "    print(\"Factorial does not exist for negative numbers.\")\n",
    "elif num == 0:\n",
    "    print(\"The factorial of 0 is 1.\")\n",
    "else:\n",
    "    factorial = 1\n",
    "    for i in range(1, num + 1):\n",
    "        factorial *= i\n",
    "    print(\"The factorial of\", num, \"is\", factorial)"
   ]
  },
  {
   "cell_type": "code",
   "execution_count": 82,
   "id": "72735b52-90af-4cec-ab0e-7f5dbc2cd9e8",
   "metadata": {},
   "outputs": [
    {
     "name": "stdin",
     "output_type": "stream",
     "text": [
      "Enter the base number:  5\n",
      "Enter the exponent:  3\n"
     ]
    },
    {
     "name": "stdout",
     "output_type": "stream",
     "text": [
      "Result: 125.0\n"
     ]
    }
   ],
   "source": [
    "\"\"\" 15. Write a Python program that prompts the user to enter a base number and an exponent, and then calculates the power of the base to \n",
    "the exponent. The program should not use the exponentiation operator (**) or the math.pow() function. The program should handle both positive \n",
    "and negative exponents.\"\"\"\n",
    "\n",
    "base = float(input(\"Enter the base number: \"))\n",
    "exponent = int(input(\"Enter the exponent: \"))\n",
    "def power(base, exponent):\n",
    "    result = 1\n",
    "    if exponent < 0:\n",
    "        base = 1 / base\n",
    "        exponent = -exponent\n",
    "    for _ in range(exponent):\n",
    "        result *= base\n",
    "    return result\n",
    "result = power(base, exponent)\n",
    "print(\"Result:\", result)"
   ]
  }
 ],
 "metadata": {
  "kernelspec": {
   "display_name": "Python 3 (ipykernel)",
   "language": "python",
   "name": "python3"
  },
  "language_info": {
   "codemirror_mode": {
    "name": "ipython",
    "version": 3
   },
   "file_extension": ".py",
   "mimetype": "text/x-python",
   "name": "python",
   "nbconvert_exporter": "python",
   "pygments_lexer": "ipython3",
   "version": "3.11.7"
  }
 },
 "nbformat": 4,
 "nbformat_minor": 5
}
